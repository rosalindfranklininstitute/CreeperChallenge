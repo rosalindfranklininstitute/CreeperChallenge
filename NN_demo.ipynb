{
 "cells": [
  {
   "cell_type": "code",
   "execution_count": 1,
   "id": "bd7b3423-5e2a-4d89-b500-1618ccdc79a3",
   "metadata": {},
   "outputs": [],
   "source": [
    "from tqdm import tqdm\n",
    "\n",
    "import numpy as np\n",
    "import matplotlib.pyplot as plt\n",
    "\n",
    "import networkx as nx\n",
    "from graphviz import Graph, Digraph"
   ]
  },
  {
   "cell_type": "code",
   "execution_count": 77,
   "id": "2a4559e8-7a13-4b40-82fd-6e7db68355fc",
   "metadata": {},
   "outputs": [],
   "source": [
    "def preset_decision(input_vector): # dim(IV) = 3 -> [L, F. R]\n",
    "    if np.linalg.norm(input_vector) < 1.5: # sqrt(2)=1.414\n",
    "        return 3\n",
    "        \n",
    "    if input_vector[0] > 0:\n",
    "        return 2\n",
    "    elif input_vector[2] > 0:\n",
    "        return 1\n",
    "    elif input_vector[1] > 0:\n",
    "        return 0"
   ]
  },
  {
   "cell_type": "code",
   "execution_count": 159,
   "id": "cafee01c-0613-44a1-ae2a-e800fb968829",
   "metadata": {},
   "outputs": [],
   "source": [
    "class Network:\n",
    "    def __init__(self, NN_shape):\n",
    "        self.NN_shape = NN_shape\n",
    "\n",
    "        self._initialise_parameters()\n",
    "        self._build_network()\n",
    "\n",
    "    def _initialise_parameters(self):\n",
    "        self._weight_input_hidden_size = self.NN_shape[0] * self.NN_shape[1]\n",
    "        self._bias_hidden_size = self.NN_shape[1]\n",
    "        self._weight_hidden_output_size = self.NN_shape[1] * self.NN_shape[2]\n",
    "        self._bias_output_size = self.NN_shape[2]\n",
    "\n",
    "        self._full_parameter_size = self._weight_input_hidden_size + self._bias_hidden_size + self._weight_hidden_output_size + self._bias_output_size\n",
    "        \n",
    "        self._parameters = np.random.randint(low=1, high=100, size=(self._full_parameter_size,))\n",
    "    \n",
    "    def _build_network(self):\n",
    "        self.weight_input_hidden = self._parameters[:self._weight_input_hidden_size].reshape((self.NN_shape[0], self.NN_shape[1]))\n",
    "        self.bias_hidden = self._parameters[self._weight_input_hidden_size: self._weight_input_hidden_size+self._bias_hidden_size].reshape((self.NN_shape[1],))\n",
    "        self.weight_hidden_output = self._parameters[self._weight_input_hidden_size+self._bias_hidden_size:self._weight_input_hidden_size+self._bias_hidden_size+self._weight_hidden_output_size].reshape((self.NN_shape[1], self.NN_shape[2]))\n",
    "        self.bias_output = self._parameters[self._weight_input_hidden_size+self._bias_hidden_size+self._weight_hidden_output_size:].reshape((self.NN_shape[2],))\n",
    "\n",
    "    @staticmethod\n",
    "    def _calc_mse(x, y):\n",
    "        return np.mean((x-y)**2)\n",
    "\n",
    "    def feed_forward(self, input_values):\n",
    "        self.input = np.array(input_values)\n",
    "        self.hidden = np.dot(self.input, self.weight_input_hidden) + self.bias_hidden\n",
    "        self.output = np.dot(self.hidden, self.weight_hidden_output) + self.bias_output\n",
    "        self.output_normalised = self.output / np.linalg.norm(self.output)\n",
    "\n",
    "        self.decision = np.argmax(self.output_normalised, axis=1)\n",
    "\n",
    "    def train_montecarlo(self, input_data, ground_truth, *, max_iter=10000):\n",
    "        mse = []\n",
    "        self.feed_forward(input_values=input_data)\n",
    "        curr_mse = self._calc_mse(self.output_normalised, ground_truth)\n",
    "        mse.append(curr_mse)\n",
    "\n",
    "        self._parameters_backup = np.copy(self._parameters)        \n",
    "        self._parameters[np.random.randint(self._full_parameter_size)] = np.random.randint(low=1, high=6)\n",
    "        self._build_network()\n",
    "        for curr_iter in tqdm(range(1, max_iter+1)):\n",
    "            self.feed_forward(input_values=input_data)\n",
    "            curr_mse = self._calc_mse(self.output_normalised, ground_truth)\n",
    "            mse.append(curr_mse)\n",
    "\n",
    "            if curr_mse < mse[curr_iter-1]:\n",
    "                self._parameters_backup = np.copy(self._parameters)\n",
    "                self._parameters[np.random.randint(self._full_parameter_size)] = np.random.randint(low=1, high=6)\n",
    "                self._build_network()\n",
    "            else:\n",
    "                self._parameters = np.copy(self._parameters_backup)\n",
    "                self._build_network()\n",
    "            \n",
    "        return(mse)"
   ]
  },
  {
   "cell_type": "code",
   "execution_count": 160,
   "id": "e6e20140-b6d0-4414-8061-f45a13d15daf",
   "metadata": {},
   "outputs": [],
   "source": [
    "my_network = Network((3, 2, 4))\n",
    "\n",
    "decision_dict = dict([\n",
    "    (0, np.array([0, 1])),\n",
    "    (1, np.array([1, 0])),\n",
    "    (2, np.array([1, 0])),\n",
    "    (3, 'Explode'),\n",
    "])"
   ]
  },
  {
   "cell_type": "code",
   "execution_count": 164,
   "id": "94b76e0a-0d00-4e5d-84f7-0ba53f2526e2",
   "metadata": {},
   "outputs": [
    {
     "name": "stderr",
     "output_type": "stream",
     "text": [
      "100%|██████████████████████████████████████████████████████████████████████████████████████████████████████████████████████████████████████| 10000/10000 [00:29<00:00, 337.68it/s]\n"
     ]
    }
   ],
   "source": [
    "train_size = int(1e4)\n",
    "\n",
    "train_lateral = np.random.randint(low=-10, high=10, size=train_size)\n",
    "train_y = np.random.randint(low=0, high=10, size=train_size)\n",
    "train_L = -np.clip(train_lateral, -10, 0)\n",
    "train_R = np.clip(train_lateral, 0, 10)\n",
    "\n",
    "train_inputs = np.array(list(zip(train_L, train_y, train_R)))\n",
    "train_decision_matrix = np.array([np.eye(4)[preset_decision(vector)] for vector in train_inputs])\n",
    "\n",
    "mse = my_network.train_montecarlo(train_inputs, train_decision_matrix, max_iter=10000)"
   ]
  },
  {
   "cell_type": "code",
   "execution_count": 165,
   "id": "33d95782-5514-4c6d-9f6f-a6a67ad04382",
   "metadata": {},
   "outputs": [
    {
     "name": "stdout",
     "output_type": "stream",
     "text": [
      "[[ 2189 41480 45926  3079]\n",
      " [ 1829 32300 36062  2215]\n",
      " [ 2065 36984 41222  2579]\n",
      " ...\n",
      " [ 1307 24992 27638  1873]\n",
      " [ 2537 46352 51542  3307]\n",
      " [ 1929 28180 32270  1443]]\n",
      "[2 2 2 ... 2 2 2]\n"
     ]
    }
   ],
   "source": [
    "print(my_network.output)\n",
    "print(my_network.decision)"
   ]
  },
  {
   "cell_type": "code",
   "execution_count": 166,
   "id": "2edfecbd-58a2-496b-8b09-0104045d0893",
   "metadata": {},
   "outputs": [
    {
     "data": {
      "image/png": "[encoded data removed]",
      "text/plain": [
       "<Figure size 640x480 with 1 Axes>"
      ]
     },
     "metadata": {},
     "output_type": "display_data"
    }
   ],
   "source": [
    "fig, ax = plt.subplots()\n",
    "ax.plot(mse)\n",
    "# ax.set_ylim(bottom=0, top=1)\n",
    "ax.set_yscale('log')\n",
    "ax.set_xscale('log')"
   ]
  },
  {
   "cell_type": "code",
   "execution_count": null,
   "id": "23bf0600-7597-47bd-bee6-74d104ea9fb8",
   "metadata": {},
   "outputs": [],
   "source": []
  }
 ],
 "metadata": {
  "kernelspec": {
   "display_name": "Python 3 (ipykernel)",
   "language": "python",
   "name": "python3"
  },
  "language_info": {
   "codemirror_mode": {
    "name": "ipython",
    "version": 3
   },
   "file_extension": ".py",
   "mimetype": "text/x-python",
   "name": "python",
   "nbconvert_exporter": "python",
   "pygments_lexer": "ipython3",
   "version": "3.10.14"
  }
 },
 "nbformat": 4,
 "nbformat_minor": 5
}
