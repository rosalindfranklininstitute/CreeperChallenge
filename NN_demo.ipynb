{
 "cells": [
  {
   "cell_type": "code",
   "execution_count": 1,
   "id": "bd7b3423-5e2a-4d89-b500-1618ccdc79a3",
   "metadata": {},
   "outputs": [],
   "source": [
    "from tqdm import tqdm\n",
    "\n",
    "import numpy as np\n",
    "import matplotlib.pyplot as plt\n",
    "from sklearn.metrics import f1_score\n",
    "\n",
    "import networkx as nx\n",
    "# from graphviz import Graph, Digraph"
   ]
  },
  {
   "cell_type": "code",
   "execution_count": 74,
   "id": "2a4559e8-7a13-4b40-82fd-6e7db68355fc",
   "metadata": {},
   "outputs": [],
   "source": [
    "def preset_decision(input_vector): # dim(IV) = 3 -> [L, F. R]\n",
    "    if np.linalg.norm(input_vector) <= 2: # sqrt(2)=1.414\n",
    "        return [0, 0, 0, 1]\n",
    "    if input_vector[1]>0 and input_vector[0]==0 and input_vector[2]==0:\n",
    "        return [1, 0, 0, 0]\n",
    "\n",
    "    if input_vector[0] > 0 and input_vector[1] > 0:\n",
    "        ratio = input_vector[1] / (input_vector[0] + input_vector[1])\n",
    "        return [ratio, 0, 1-ratio, 0]\n",
    "    elif input_vector[2] > 0 and input_vector[1] > 0:\n",
    "        ratio = input_vector[1] / (input_vector[2] + input_vector[1])\n",
    "        return [ratio, 1-ratio, 0, 0]\n",
    "    \n",
    "    else:\n",
    "        return [0.25, 0.25, 0.25, 0.25]\n"
   ]
  },
  {
   "cell_type": "code",
   "execution_count": 79,
   "id": "d96894aa-59fb-4135-b85d-9452e6225736",
   "metadata": {},
   "outputs": [],
   "source": [
    "def input_convert(vector):\n",
    "    vect_L = -min(vector[0], 0)\n",
    "    vect_R = max(0, vector[0])\n",
    "    return np.array([vect_L, vector[1], vect_R])\n",
    "\n",
    "def relative_vector(vector, target):\n",
    "    return np.array(vector) - np.array(steve)\n",
    "\n",
    "def update_position(coord_history, target, NN):\n",
    "    vector = relative_vector(coord_history[-1], target)\n",
    "    converted_vector = input_convert(vector)\n",
    "    _, args = NN.feed_forward([converted_vector])\n",
    "    decisions_in_order = args[0][::-1]\n",
    "    \n",
    "    for decision in decisions_in_order:\n",
    "        if decision == 3:\n",
    "            break\n",
    "        \n",
    "        else:\n",
    "            action = decision_dict[decision]\n",
    "            provisional_new_pos = np.array(coord_history[-1]) + action\n",
    "            if list(provisional_new_pos) not in coord_history:\n",
    "                coord_history.append(list(provisional_new_pos))\n",
    "\n",
    "        return decision, coord_history\n",
    "    return decision, coord_history\n"
   ]
  },
  {
   "cell_type": "code",
   "execution_count": 127,
   "id": "cafee01c-0613-44a1-ae2a-e800fb968829",
   "metadata": {},
   "outputs": [],
   "source": [
    "class Network:\n",
    "    def __init__(self, NN_shape, max_param_value=5):\n",
    "        self.NN_shape = NN_shape\n",
    "        self._max_param_value = max_param_value + 1\n",
    "\n",
    "        self._initialise_parameters()\n",
    "        self._build_network()\n",
    "        \n",
    "    def reset(self):\n",
    "        self._initialise_parameters()\n",
    "        self._build_network()\n",
    "\n",
    "    def _initialise_parameters(self):\n",
    "        self._weight_input_hidden_size = self.NN_shape[0] * self.NN_shape[1]\n",
    "        self._bias_hidden_size = self.NN_shape[1]\n",
    "        self._weight_hidden_output_size = self.NN_shape[1] * self.NN_shape[2]\n",
    "        self._bias_output_size = self.NN_shape[2]\n",
    "\n",
    "        self._full_parameter_size = self._weight_input_hidden_size + self._bias_hidden_size + self._weight_hidden_output_size + self._bias_output_size\n",
    "        \n",
    "        self._parameters = np.random.randint(low=0, high=self._max_param_value, size=(self._full_parameter_size,))\n",
    "    \n",
    "    def _build_network(self):\n",
    "        self.weight_input_hidden = self._parameters[:self._weight_input_hidden_size].reshape((self.NN_shape[0], self.NN_shape[1]))\n",
    "        self.bias_hidden = self._parameters[self._weight_input_hidden_size: self._weight_input_hidden_size+self._bias_hidden_size].reshape((self.NN_shape[1],))\n",
    "        self.weight_hidden_output = self._parameters[self._weight_input_hidden_size+self._bias_hidden_size:self._weight_input_hidden_size+self._bias_hidden_size+self._weight_hidden_output_size].reshape((self.NN_shape[1], self.NN_shape[2]))\n",
    "        self.bias_output = self._parameters[self._weight_input_hidden_size+self._bias_hidden_size+self._weight_hidden_output_size:].reshape((self.NN_shape[2],))\n",
    "\n",
    "    @staticmethod\n",
    "    def _calc_mse(x, y):\n",
    "        return np.mean((x-y)**2)\n",
    "\n",
    "    @staticmethod\n",
    "    def _calc_dice(x, y):\n",
    "        return f1_score(x, y, average='micro')\n",
    "\n",
    "    def feed_forward(self, input_values):\n",
    "        self.input = np.array(input_values)\n",
    "        self.hidden = np.dot(self.input, self.weight_input_hidden) + self.bias_hidden\n",
    "        self.output = np.dot(self.hidden, self.weight_hidden_output) + self.bias_output\n",
    "        self.output_normalised = self.output / np.linalg.norm(self.output, axis=1)[:, np.newaxis]\n",
    "\n",
    "        self.decision = np.argmax(self.output_normalised, axis=1)\n",
    "        return self.decision, self.output.argsort()\n",
    "\n",
    "    def train_montecarlo(self, input_data, ground_truth, *, max_iter=10000):\n",
    "        mse, dice = [], []\n",
    "        _, _ = self.feed_forward(input_values=input_data)\n",
    "        curr_mse = self._calc_mse(self.output_normalised, ground_truth)\n",
    "        curr_dice = self._calc_dice(self.decision, np.argmax(ground_truth, axis=1))\n",
    "        mse.append(curr_mse)\n",
    "        dice.append(curr_dice)\n",
    "\n",
    "        self._parameters_backup = np.copy(self._parameters)        \n",
    "        self._parameters[np.random.randint(self._full_parameter_size)] = np.random.randint(low=0, high=self._max_param_value)\n",
    "        self._build_network()\n",
    "\n",
    "        for curr_iter in tqdm(range(1, max_iter)):\n",
    "            _, _ = self.feed_forward(input_values=input_data)\n",
    "            curr_mse = self._calc_mse(self.output_normalised, ground_truth)\n",
    "            curr_dice = self._calc_dice(self.decision, np.argmax(ground_truth, axis=1))\n",
    "\n",
    "            if curr_mse < np.min(mse):\n",
    "                self._parameters_backup = np.copy(self._parameters)\n",
    "                mse.append(curr_mse)\n",
    "                dice.append(curr_dice)\n",
    "                self._parameters[np.random.randint(self._full_parameter_size)] = np.random.randint(low=1, high=self._max_param_value)\n",
    "                self._build_network()\n",
    "            else:\n",
    "                mse.append(mse[-1])\n",
    "                dice.append(dice[-1])\n",
    "                self._parameters = np.copy(self._parameters_backup)\n",
    "                self._parameters[np.random.randint(self._full_parameter_size)] = np.random.randint(low=1, high=self._max_param_value)\n",
    "                self._build_network()\n",
    "            \n",
    "        return(mse, dice)"
   ]
  },
  {
   "cell_type": "code",
   "execution_count": 119,
   "id": "e6e20140-b6d0-4414-8061-f45a13d15daf",
   "metadata": {},
   "outputs": [],
   "source": [
    "decision_dict = dict([\n",
    "    (0, np.array([0, -1])),\n",
    "    (1, np.array([-1, 0])),\n",
    "    (2, np.array([1, 0])),\n",
    "    (3, 'Explode'),\n",
    "])"
   ]
  },
  {
   "cell_type": "markdown",
   "id": "eec9d60a-a630-4a68-80d2-38a13e5d4944",
   "metadata": {},
   "source": [
    "## Neural network specification, building and training"
   ]
  },
  {
   "cell_type": "code",
   "execution_count": 136,
   "id": "87fd21b8-322d-4c13-8143-c72ba0d4d6e8",
   "metadata": {},
   "outputs": [],
   "source": [
    "my_network = Network((3, 20, 4), max_param_value=20)\n",
    "train_size = 2000"
   ]
  },
  {
   "cell_type": "code",
   "execution_count": 140,
   "id": "94b76e0a-0d00-4e5d-84f7-0ba53f2526e2",
   "metadata": {},
   "outputs": [
    {
     "name": "stderr",
     "output_type": "stream",
     "text": [
      "100%|██████████| 1999/1999 [00:02<00:00, 704.76it/s]\n"
     ]
    },
    {
     "data": {
      "text/plain": [
       "(0.0, 1.2)"
      ]
     },
     "execution_count": 140,
     "metadata": {},
     "output_type": "execute_result"
    },
    {
     "data": {
      "image/png": "[encoded data removed]",
      "text/plain": [
       "<Figure size 640x480 with 2 Axes>"
      ]
     },
     "metadata": {},
     "output_type": "display_data"
    }
   ],
   "source": [
    "# Re-train network (comment following line if continue training)\n",
    "my_network.reset()\n",
    "\n",
    "train_lateral = np.random.normal(loc=0, scale=10, size=train_size).astype(int)\n",
    "train_y = np.abs(np.random.normal(loc=0, scale=10, size=train_size)).astype(int)\n",
    "train_L = -np.clip(train_lateral, -np.inf, 0).astype(int)\n",
    "train_R = np.clip(train_lateral, 0, np.inf).astype(int)\n",
    "\n",
    "train_inputs = np.array(list(zip(train_L, train_y, train_R)))\n",
    "# train_decisions = np.array([preset_decision(vector) for vector in train_inputs])\n",
    "train_decision_matrix = np.array([preset_decision(vector) for vector in train_inputs])\n",
    "\n",
    "mse, dice = my_network.train_montecarlo(train_inputs, train_decision_matrix, max_iter=2000)\n",
    "\n",
    "fig, ax = plt.subplots()\n",
    "ax2 = ax.twinx()\n",
    "m_plot = ax.plot(mse, label=\"MSE loss\")\n",
    "d_plot = ax2.plot(dice, c='r', label=\"Dice score\")\n",
    "\n",
    "leg = m_plot + d_plot\n",
    "labs = [l.get_label() for l in leg]\n",
    "ax.legend(leg, labs)\n",
    "\n",
    "ax.set_yscale('linear')\n",
    "ax.set_xscale('linear')\n",
    "ax2.set_xscale('linear')\n",
    "ax2.set_ylim([0, 1.2])\n",
    "\n"
   ]
  },
  {
   "cell_type": "code",
   "execution_count": 138,
   "id": "47943062-d78d-40e8-8eb7-34ed989325e5",
   "metadata": {
    "tags": []
   },
   "outputs": [
    {
     "name": "stdout",
     "output_type": "stream",
     "text": [
      "[[ 1 19 16 19  2 19  2  1 19  1  1  0  1 19  6  2  2  1  3  3]\n",
      " [18  1  3  1  1  1  8  1  1 14  2  0 20  1  1  2  1 16  1  2]\n",
      " [ 1  1  1  4  3  1  1 19  1  3 19 20  8  5 18 20  3  1  2  3]]\n",
      "[ 1  5  3  2  2  3  1  1  2  2  1  1  3  2  1  1 18  3  6 20]\n",
      "[[20  3  1  1]\n",
      " [ 4  1 20  1]\n",
      " [ 1  1  6  1]\n",
      " [ 1  1 13  2]\n",
      " [ 2  5 11  3]\n",
      " [ 4  1 20  2]\n",
      " [17  3  2  1]\n",
      " [ 1 19  2  1]\n",
      " [ 6  2 18  1]\n",
      " [18  0  0  2]\n",
      " [ 2 20  1  0]\n",
      " [ 1 20  1  1]\n",
      " [20  1  1  2]\n",
      " [ 2  1 20  1]\n",
      " [ 1 13  1  5]\n",
      " [ 2 16  1  1]\n",
      " [ 2  1  1 18]\n",
      " [18  3  1  1]\n",
      " [17  3  3  5]\n",
      " [ 5  2  1 11]]\n",
      "[ 1  8  0 20]\n"
     ]
    }
   ],
   "source": [
    "print(my_network.weight_input_hidden)\n",
    "print(my_network.bias_hidden)\n",
    "print(my_network.weight_hidden_output)\n",
    "print(my_network.bias_output)"
   ]
  },
  {
   "cell_type": "markdown",
   "id": "7c15a38f-0b38-4710-9f55-f2621de513a4",
   "metadata": {},
   "source": [
    "## Demonstration run\n",
    "\n",
    "Plot legend:  \n",
    "Green dot = starting point  \n",
    "Red dot = Steve"
   ]
  },
  {
   "cell_type": "code",
   "execution_count": 139,
   "id": "00afe04f-dcdb-4a69-9d06-55d01361d9b2",
   "metadata": {
    "scrolled": true,
    "tags": []
   },
   "outputs": [
    {
     "name": "stdout",
     "output_type": "stream",
     "text": [
      "[[-2, 15], [-2, 14], [-2, 13], [-2, 12], [-2, 11], [-2, 10], [-2, 9], [-2, 8], [-2, 7], [-1, 7], [-1, 6], [0, 6], [0, 5], [1, 5], [1, 4], [2, 4], [2, 3], [3, 3], [3, 2], [3, 1], [4, 1], [4, 0]]\n",
      "22 22\n"
     ]
    },
    {
     "data": {
      "text/plain": [
       "(-5.0, 20.0)"
      ]
     },
     "execution_count": 139,
     "metadata": {},
     "output_type": "execute_result"
    },
    {
     "data": {
      "image/png": "[encoded data removed]",
      "text/plain": [
       "<Figure size 640x480 with 1 Axes>"
      ]
     },
     "metadata": {},
     "output_type": "display_data"
    }
   ],
   "source": [
    "steve = [5, 0]\n",
    "creeper = [-2, 15]\n",
    "\n",
    "coords_hist = [creeper]\n",
    "step, max_step = 0, 100\n",
    "\n",
    "decision = None\n",
    "for step in range(max_step):\n",
    "    decision, coords_hist = update_position(coords_hist, steve, my_network)\n",
    "    if decision == 3:\n",
    "        break\n",
    "\n",
    "print(coords_hist[:-1])\n",
    "print(step, len(coords_hist[:-1]))\n",
    "coords_hist_stack = np.stack(coords_hist)\n",
    "        \n",
    "fig, ax = plt.subplots()\n",
    "# ax.axis('equal')\n",
    "ax.scatter(coords_hist_stack[0, 0], coords_hist_stack[0, 1], c='g', marker='o')\n",
    "ax.scatter(steve[0], steve[1], c='r', marker='o')\n",
    "ax.scatter(coords_hist_stack[1:-1, 0], coords_hist_stack[1:-1, 1], cmap='cool', c=range(1, len(coords_hist_stack)-1), marker='x')\n",
    "\n",
    "ax.set_xlim([-5, 20])\n",
    "ax.set_ylim([-5, 20])"
   ]
  },
  {
   "cell_type": "code",
   "execution_count": null,
   "id": "b6a00c4c-64b8-442b-8570-965c5aa258a9",
   "metadata": {},
   "outputs": [],
   "source": []
  }
 ],
 "metadata": {
  "kernelspec": {
   "display_name": "Python 3 (ipykernel)",
   "language": "python",
   "name": "python3"
  },
  "language_info": {
   "codemirror_mode": {
    "name": "ipython",
    "version": 3
   },
   "file_extension": ".py",
   "mimetype": "text/x-python",
   "name": "python",
   "nbconvert_exporter": "python",
   "pygments_lexer": "ipython3",
   "version": "3.10.9"
  }
 },
 "nbformat": 4,
 "nbformat_minor": 5
}
